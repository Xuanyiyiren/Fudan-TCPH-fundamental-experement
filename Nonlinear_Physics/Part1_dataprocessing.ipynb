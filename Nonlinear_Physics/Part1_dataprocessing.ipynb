{
 "cells": [
  {
   "cell_type": "code",
   "execution_count": 43,
   "metadata": {},
   "outputs": [
    {
     "name": "stdout",
     "output_type": "stream",
     "text": [
      "part1\\20000101_022006.bmp\n",
      "part1\\20000101_022102.bmp\n",
      "part1\\20000101_023343.bmp\n",
      "part1\\20000101_023524.bmp\n",
      "part1\\20000101_023808.bmp\n",
      "part1\\20000101_024430.bmp\n",
      "part1\\20000101_024640.bmp\n"
     ]
    }
   ],
   "source": [
    "import os\n",
    "\n",
    "def get_image_files(directory):\n",
    "    image_files = []\n",
    "    # 遍历指定目录下的所有文件\n",
    "    for root, dirs, files in os.walk(directory):\n",
    "        for file in files:\n",
    "            # 检查文件扩展名是否为图片格式（可以根据需要扩展这里的条件）\n",
    "            if file.lower().endswith('.bmp'):\n",
    "                # 构建完整的文件路径并添加到列表中\n",
    "                image_files.append(os.path.join(root, file))\n",
    "    return image_files\n",
    "\n",
    "# 你的相对路径\n",
    "directory_path = \"part1\"\n",
    "\n",
    "# 获取所有图片文件的完整文件名\n",
    "image_files = get_image_files(directory_path)\n",
    "\n",
    "# 打印文件名列表\n",
    "for image_file in image_files:\n",
    "    print(image_file)\n",
    "    # print(image_file[15:21])\n",
    "\n"
   ]
  },
  {
   "cell_type": "code",
   "execution_count": 46,
   "metadata": {},
   "outputs": [],
   "source": [
    "from PIL import Image\n",
    "\n",
    "# 指定要截取的区域的坐标\n",
    "left = 15\n",
    "upper = 205\n",
    "right = 340\n",
    "lower = 600\n",
    "\n",
    "keys =image_files\n",
    "values = ['single_orbit', 'double_orbit', '4_orbit','chaotic','triple_orbit','single_attractor','double_attractor']\n",
    "\n",
    "my_dict = dict(zip(keys, values))\n",
    "\n",
    "# 打开原始图片\n",
    "for index,image_file in enumerate(image_files):\n",
    "    image = Image.open(image_file)  # 你的原始图片路径\n",
    "    cropped_image = image.crop((left, upper, right, lower))\n",
    "    pixels = list(cropped_image.getdata())\n",
    "    inverted_pixels = [(255 - r, 255 - g, 255 - b) for (r, g, b) in pixels]\n",
    "    width, height = cropped_image.size\n",
    "    inverted_image = Image.new(\"RGB\", (width, height))\n",
    "    inverted_image.putdata(inverted_pixels)\n",
    "\n",
    "    # 保存截取的图片\n",
    "    # cropped_image.save(\"output_tiles/output_cropped_image.jpg\")  # 保存路径可以根据需要修改\n",
    "    inverted_image.save(f\"output_tiles/{index+1}_{my_dict[image_file]}.jpg\")\n",
    "\n",
    "image.close()\n",
    "cropped_image.close()\n",
    "inverted_image.close()\n"
   ]
  }
 ],
 "metadata": {
  "kernelspec": {
   "display_name": "base",
   "language": "python",
   "name": "python3"
  },
  "language_info": {
   "codemirror_mode": {
    "name": "ipython",
    "version": 3
   },
   "file_extension": ".py",
   "mimetype": "text/x-python",
   "name": "python",
   "nbconvert_exporter": "python",
   "pygments_lexer": "ipython3",
   "version": "3.9.13"
  }
 },
 "nbformat": 4,
 "nbformat_minor": 2
}
