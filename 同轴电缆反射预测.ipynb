{
 "cells": [
  {
   "cell_type": "code",
   "execution_count": 1,
   "id": "25e62ba0",
   "metadata": {},
   "outputs": [],
   "source": [
    "import numpy as np\n",
    "import matplotlib.pyplot as plt"
   ]
  },
  {
   "cell_type": "code",
   "execution_count": 2,
   "id": "fd74d69f",
   "metadata": {},
   "outputs": [],
   "source": [
    "def plot_scatter(x, title='Scatter Plot', x_label='X-axis', y_label='Y-axis'):\n",
    "    # 绘制散点图\n",
    "    plt.scatter(np.arange(len(x)),x,marker='o', s=2)\n",
    "    plt.title(title)\n",
    "    plt.xlabel(x_label)\n",
    "    plt.ylabel(y_label)\n",
    "    # # 设置X轴和Y轴范围\n",
    "    # plt.xlim(0,5)  # 设置X轴范围\n",
    "    plt.ylim(0, 5)  # 设置Y轴范围\n",
    "    plt.show()\n",
    "\n",
    "def plot_line(x, title='Scatter Plot', x_label='X-axis', y_label='Y-axis'):\n",
    "    # 绘制散点图\n",
    "    plt.plot(np.arange(len(x)),x, label='数据线', color='blue')\n",
    "    plt.title(title)\n",
    "    plt.xlabel(x_label)\n",
    "    plt.ylabel(y_label)\n",
    "    # 设置X轴和Y轴范围\n",
    "    # plt.xlim(0,5)  # 设置X轴范围\n",
    "    plt.ylim(0, 5)  # 设置Y轴范围\n",
    "    plt.show()\n",
    "\n",
    "def plot_step(data, title='Scatter Plot', x_label='X-axis', y_label='Y-axis',yrange=(-0.5,5.5)):\n",
    "\n",
    "    # 创建阶梯状波形\n",
    "    plt.step(range(len(data)), data,where='post')\n",
    "\n",
    "    # 设置X轴标签\n",
    "    plt.xlabel(x_label)\n",
    "\n",
    "    # 设置Y轴标签\n",
    "    plt.ylabel(y_label)\n",
    "\n",
    "    # 设置标题\n",
    "    plt.title(title)\n",
    "    yd,yu=yrange\n",
    "    plt.ylim(yd, yu)\n",
    "\n",
    "    # 显示阶梯状波形\n",
    "    plt.show()\n",
    "\n",
    "def plot_step2(data1,data2, title='Scatter Plot', x_label='X-axis', y_label='Y-axis',label1='Beginning',label2='End',yrange=(-0.5,5.5)):\n",
    "    ymin,ymax=yrange\n",
    "    # 创建两个子图\n",
    "    fig, (ax1, ax2) = plt.subplots(2, 1, sharex=True)\n",
    "\n",
    "    # 在第一个子图中绘制第一条曲线\n",
    "    ax1.step(range(len(data1)), data1,where='post',label=label1,color='orange')\n",
    "    ax1.set_ylabel('Voltage/V')\n",
    "    ax1.set_ylim(ymin, ymax)  # 设置y轴范围为0到5\n",
    "    # ax1.set_yticks(np.linspace(ymin, ymax, 5))  # 设置Y轴刻度值\n",
    "    ax1.legend()\n",
    "\n",
    "    # 在第二个子图中绘制第二条曲线\n",
    "    ax2.step(range(len(data2)), data2,where='post',label=label2,color='blue')\n",
    "    ax2.set_xlabel('Time/$t_d$')\n",
    "    ax2.set_ylabel('Voltage/V')\n",
    "    ax2.set_ylim(ymin, ymax)  # 设置y轴范围为0到5\n",
    "    # ax2.set_yticks(np.linspace(ymin, ymax, 5))  # 设置Y轴刻度值\n",
    "    ax2.legend()\n",
    "\n",
    "    # 设置标题\n",
    "    plt.suptitle('Theoretical Waveforms at the Beginning and End of a Coaxial Cable')\n",
    "\n",
    "    # 调整子图之间的垂直间距\n",
    "    plt.subplots_adjust(left=0.1, right=0.9, bottom=0.1, top=0.9, hspace=0.06)\n",
    "    # 显示图形\n",
    "    plt.show()\n"
   ]
  },
  {
   "cell_type": "code",
   "execution_count": 3,
   "id": "93dcd4d9",
   "metadata": {},
   "outputs": [
    {
     "data": {
      "text/plain": [
       "(-0.003984063745019906, 0.9998992050800639)"
      ]
     },
     "execution_count": 3,
     "metadata": {},
     "output_type": "execute_result"
    }
   ],
   "source": [
    "Z0=50.4\n",
    "Zs=50.\n",
    "Z1=1e6\n",
    "u_sourse=5.\n",
    "\n",
    "def reflectoin_coe(Z0,Zs,Z1):\n",
    "    refl_s=(Zs-Z0)/(Zs+Z0)\n",
    "    refl_1=(Z1-Z0)/(Z1+Z0)\n",
    "    return refl_s,refl_1\n",
    "\n",
    "reflectoin_coe(Z0,Zs,Z1)"
   ]
  },
  {
   "cell_type": "code",
   "execution_count": 4,
   "id": "e0e11890",
   "metadata": {},
   "outputs": [],
   "source": [
    "def mydraw(Z0,Zs,Z1,u_sour=5,Nmax=10):\n",
    "    us=np.zeros(Nmax)\n",
    "    u1=np.zeros(Nmax)\n",
    "    ur=us[0]=u_sour#*Z0/(Zs+Z0)\n",
    "    uin=0\n",
    "    refl_s,refl_1=reflectoin_coe(Z0,Zs,Z1)\n",
    "\n",
    "    for i in range(1,Nmax):\n",
    "        # print(i,end='')\n",
    "        uin=ur\n",
    "        if i%2:\n",
    "            # print('奇数吗')\n",
    "            ur=refl_1*uin\n",
    "            us[i]=us[i-1]\n",
    "            u1[i]=u1[i-1]+ur+uin\n",
    "        else:\n",
    "            # print('偶数吗')\n",
    "            ur=refl_s*uin\n",
    "            us[i]=us[i-1]+ur+uin\n",
    "            u1[i]=u1[i-1]\n",
    "\n",
    "        \n",
    "    # plot_step(us,title='Beginning')\n",
    "    # plot_step(u1,title='Endings')\n",
    "    plot_step2(us,u1)"
   ]
  },
  {
   "cell_type": "code",
   "execution_count": 5,
   "id": "2061badf",
   "metadata": {},
   "outputs": [
    {
     "data": {
      "image/png": "[encoded data removed]",
      "text/plain": [
       "<Figure size 640x480 with 2 Axes>"
      ]
     },
     "metadata": {},
     "output_type": "display_data"
    }
   ],
   "source": [
    "Z0=50.4\n",
    "Zs=50.\n",
    "Z1=51.\n",
    "mydraw(Z0,Zs,Z1)"
   ]
  }
 ],
 "metadata": {
  "kernelspec": {
   "display_name": "Python 3 (ipykernel)",
   "language": "python",
   "name": "python3"
  },
  "language_info": {
   "codemirror_mode": {
    "name": "ipython",
    "version": 3
   },
   "file_extension": ".py",
   "mimetype": "text/x-python",
   "name": "python",
   "nbconvert_exporter": "python",
   "pygments_lexer": "ipython3",
   "version": "3.9.13"
  }
 },
 "nbformat": 4,
 "nbformat_minor": 5
}
